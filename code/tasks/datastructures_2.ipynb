{
 "cells": [
  {
   "cell_type": "markdown",
   "id": "18dc688b",
   "metadata": {},
   "source": [
    "## 2. Pythonda Veriənlərin strukturları"
   ]
  },
  {
   "cell_type": "markdown",
   "id": "f69476cd",
   "metadata": {},
   "source": [
    "#### Ədədlər"
   ]
  },
  {
   "cell_type": "markdown",
   "id": "dd71472a",
   "metadata": {},
   "source": [
    "1. Fərqli ədədi tiplər üçün `num_int`, `num_float`, və `num_complex` dəyişənlərini yaradın."
   ]
  },
  {
   "cell_type": "code",
   "execution_count": 1,
   "id": "6477ec0b",
   "metadata": {},
   "outputs": [
    {
     "name": "stdout",
     "output_type": "stream",
     "text": [
      "<class 'int'>\n",
      "<class 'float'>\n",
      "<class 'complex'>\n"
     ]
    }
   ],
   "source": [
    "num_int = 5\n",
    "num_float = 5.0\n",
    "num_complex = 5 + 5j\n",
    "\n",
    "print(type(num_int))\n",
    "print(type(num_float))\n",
    "print(type(num_complex))"
   ]
  },
  {
   "cell_type": "markdown",
   "id": "c61736e3",
   "metadata": {},
   "source": [
    "2. İki ədəd dəyişəninin cəminin nəticəsini yeni `sum_result` dəyişənində saxlayın."
   ]
  },
  {
   "cell_type": "code",
   "execution_count": 2,
   "id": "6f4060af",
   "metadata": {},
   "outputs": [
    {
     "name": "stdout",
     "output_type": "stream",
     "text": [
      "8\n"
     ]
    }
   ],
   "source": [
    "a = 5\n",
    "b = 3\n",
    "sum_result = a + b\n",
    "print(sum_result)"
   ]
  },
  {
   "cell_type": "markdown",
   "id": "83aecdc1",
   "metadata": {},
   "source": [
    "3. İki ədədin fərqini saxlamaq üçün `difference` dəyişəni yaradın."
   ]
  },
  {
   "cell_type": "code",
   "execution_count": 3,
   "id": "bb7d3770",
   "metadata": {},
   "outputs": [
    {
     "name": "stdout",
     "output_type": "stream",
     "text": [
      "2\n"
     ]
    }
   ],
   "source": [
    "difference = a - b\n",
    "print(difference)"
   ]
  },
  {
   "cell_type": "markdown",
   "id": "1691fe65",
   "metadata": {},
   "source": [
    "4. İki ədədin hasilini saxlamaq üçün `product` dəyişəni yaradın."
   ]
  },
  {
   "cell_type": "code",
   "execution_count": 4,
   "id": "5ccca8b6",
   "metadata": {},
   "outputs": [
    {
     "name": "stdout",
     "output_type": "stream",
     "text": [
      "15\n"
     ]
    }
   ],
   "source": [
    "product = a * b\n",
    "print(product)"
   ]
  },
  {
   "cell_type": "markdown",
   "id": "20207e6d",
   "metadata": {},
   "source": [
    "5. Bölmənin nəticəsini saxlamaq üçün `quotient` dəyişənindən istifadə edin."
   ]
  },
  {
   "cell_type": "code",
   "execution_count": 5,
   "id": "dbbf3bf4",
   "metadata": {},
   "outputs": [
    {
     "name": "stdout",
     "output_type": "stream",
     "text": [
      "1.6666666666666667\n"
     ]
    }
   ],
   "source": [
    "quotient = a / b\n",
    "print(quotient)"
   ]
  },
  {
   "cell_type": "markdown",
   "id": "d17d8d77",
   "metadata": {},
   "source": [
    "6. Modul operatorundan istifadə edərək bölmənin qalığını `remainder` dəyişənində saxlayın."
   ]
  },
  {
   "cell_type": "code",
   "execution_count": 6,
   "id": "6c8ea1cc",
   "metadata": {},
   "outputs": [
    {
     "name": "stdout",
     "output_type": "stream",
     "text": [
      "2\n"
     ]
    }
   ],
   "source": [
    "remainder = a % b\n",
    "print(remainder)"
   ]
  },
  {
   "cell_type": "markdown",
   "id": "1af2829d",
   "metadata": {},
   "source": [
    "7. Tam bölmədən istifadə edərək `floor_result` dəyişəni yaradın."
   ]
  },
  {
   "cell_type": "code",
   "execution_count": 7,
   "id": "86c54b7c",
   "metadata": {},
   "outputs": [
    {
     "name": "stdout",
     "output_type": "stream",
     "text": [
      "1\n"
     ]
    }
   ],
   "source": [
    "floor_result = a // b\n",
    "print(floor_result)"
   ]
  },
  {
   "cell_type": "markdown",
   "id": "6912cabc",
   "metadata": {},
   "source": [
    "8. Bir ədədin qüvvətə yüksəldilməsinin nəticəsini `power_result` dəyişənində saxlayın."
   ]
  },
  {
   "cell_type": "code",
   "execution_count": 8,
   "id": "d2978135",
   "metadata": {},
   "outputs": [
    {
     "name": "stdout",
     "output_type": "stream",
     "text": [
      "125\n"
     ]
    }
   ],
   "source": [
    "power_result = a ** b\n",
    "print(power_result)"
   ]
  },
  {
   "cell_type": "markdown",
   "id": "fb95b581",
   "metadata": {},
   "source": [
    "9. Mənfi bir ədədin mütləq qiymətini saxlamaq üçün `abs_value` dəyişəni yaradın."
   ]
  },
  {
   "cell_type": "code",
   "execution_count": 9,
   "id": "d911a709",
   "metadata": {},
   "outputs": [
    {
     "name": "stdout",
     "output_type": "stream",
     "text": [
      "5\n"
     ]
    }
   ],
   "source": [
    "abs_value = abs(-5)\n",
    "print(abs_value)"
   ]
  },
  {
   "cell_type": "markdown",
   "id": "4f006b2f",
   "metadata": {},
   "source": [
    "10. Həqiqi ədədin (float) yuvarlaqlaşdırılmış versiyasını `rounded_num` dəyişənində saxlayın."
   ]
  },
  {
   "cell_type": "code",
   "execution_count": 10,
   "id": "12884660",
   "metadata": {},
   "outputs": [
    {
     "name": "stdout",
     "output_type": "stream",
     "text": [
      "3.78\n"
     ]
    }
   ],
   "source": [
    "rounded_num = round(3.778787878787878, 2)\n",
    "print(rounded_num)"
   ]
  },
  {
   "cell_type": "markdown",
   "id": "3d8a6455",
   "metadata": {},
   "source": [
    "##### Sətrlər"
   ]
  },
  {
   "cell_type": "markdown",
   "id": "3c7fcd32",
   "metadata": {},
   "source": [
    "1. \"El bilir ki sən mənimsən\" sətrini bir dəyişənə mənimsədim, uzunluğunu çap edin."
   ]
  },
  {
   "cell_type": "code",
   "execution_count": 11,
   "id": "ab1ddff5",
   "metadata": {},
   "outputs": [
    {
     "name": "stdout",
     "output_type": "stream",
     "text": [
      "El bilir ki sən mənimsən\n",
      "24\n"
     ]
    }
   ],
   "source": [
    "row = \"El bilir ki sən mənimsən\"\n",
    "print(row)\n",
    "print(len(row))"
   ]
  },
  {
   "cell_type": "markdown",
   "id": "94246da7",
   "metadata": {},
   "source": [
    "2. Dilimləmə (slicing) istifadə edərək `substring` dəyişənində bir altsətr saxlayın."
   ]
  },
  {
   "cell_type": "code",
   "execution_count": 12,
   "id": "f2010ff8",
   "metadata": {},
   "outputs": [
    {
     "name": "stdout",
     "output_type": "stream",
     "text": [
      "El\n"
     ]
    }
   ],
   "source": [
    "substring = row[0:2]\n",
    "print(substring)"
   ]
  },
  {
   "cell_type": "markdown",
   "id": "a9651198",
   "metadata": {},
   "source": [
    "3. Sətrinizi böyük hərflərə çevirərək `uppercase_text` dəyişəni yaradın."
   ]
  },
  {
   "cell_type": "code",
   "execution_count": 13,
   "id": "ee672216",
   "metadata": {},
   "outputs": [
    {
     "name": "stdout",
     "output_type": "stream",
     "text": [
      "EL BILIR KI SƏN MƏNIMSƏN\n"
     ]
    }
   ],
   "source": [
    "uppercase_text = row.upper()\n",
    "print(uppercase_text)"
   ]
  },
  {
   "cell_type": "markdown",
   "id": "b04cae7a",
   "metadata": {},
   "source": [
    "4. Müəyyən bir simvolun sayını `char_count` dəyişənində saxlayın."
   ]
  },
  {
   "cell_type": "code",
   "execution_count": 14,
   "id": "49526949",
   "metadata": {},
   "outputs": [
    {
     "name": "stdout",
     "output_type": "stream",
     "text": [
      "4\n"
     ]
    }
   ],
   "source": [
    "char_count = row.count(\"i\")\n",
    "print(char_count)"
   ]
  },
  {
   "cell_type": "markdown",
   "id": "7d0b85fe",
   "metadata": {},
   "source": [
    "5. Sətrinizdə \"El\" sözünü \"Aləm\" sözü ilə əvəz edərək `replaced_text` dəyişəninə mənimsədin."
   ]
  },
  {
   "cell_type": "code",
   "execution_count": 15,
   "id": "336aab07",
   "metadata": {},
   "outputs": [
    {
     "name": "stdout",
     "output_type": "stream",
     "text": [
      "Aləm bilir ki sən mənimsən\n"
     ]
    }
   ],
   "source": [
    "replaced_text = row.replace(\"El\", \"Aləm\")\n",
    "print(replaced_text)"
   ]
  },
  {
   "cell_type": "markdown",
   "id": "b84334c6",
   "metadata": {},
   "source": [
    "6. Sətrinizi sözlərə bölün və nəticəsini `word_list` dəyişənində saxlayın."
   ]
  },
  {
   "cell_type": "code",
   "execution_count": 16,
   "id": "349118db",
   "metadata": {},
   "outputs": [
    {
     "name": "stdout",
     "output_type": "stream",
     "text": [
      "['El', 'bilir', 'ki', 'sən', 'mənimsən']\n"
     ]
    }
   ],
   "source": [
    "word_list = row.split(\" \")\n",
    "print(word_list)"
   ]
  },
  {
   "cell_type": "markdown",
   "id": "66ba366c",
   "metadata": {},
   "source": [
    "7. `colors_str = \"red,black,yellow\"` dəyişəni var. Sətrdən rənglər siyahısı alın: `['red', 'black', 'yellow']`"
   ]
  },
  {
   "cell_type": "code",
   "execution_count": 17,
   "id": "205987e3",
   "metadata": {},
   "outputs": [
    {
     "name": "stdout",
     "output_type": "stream",
     "text": [
      "['red', 'black', 'yellow']\n"
     ]
    }
   ],
   "source": [
    "colors_str = \"red,black,yellow\"\n",
    "colors_list = colors_str.split(\",\")\n",
    "print(colors_list)"
   ]
  },
  {
   "cell_type": "markdown",
   "id": "7cbf7292",
   "metadata": {},
   "source": [
    "8. Ancaq dilimləmə istifadə etməklə, `\"-1-2-3-4-5\"` sətrindən `\"12345\"` sətrini alın. "
   ]
  },
  {
   "cell_type": "code",
   "execution_count": 18,
   "id": "78cd4c6d",
   "metadata": {},
   "outputs": [
    {
     "name": "stdout",
     "output_type": "stream",
     "text": [
      "12345\n"
     ]
    }
   ],
   "source": [
    "print(\"-1-2-3-4-5\".replace(\"-\", \"\"))"
   ]
  },
  {
   "cell_type": "markdown",
   "id": "7d9d2587",
   "metadata": {},
   "source": [
    "9. `greeting = \"  salam dünya  \\n\"` dəyişəni verilib. Sətrin hər iki kənarındakı boşluqları silin. "
   ]
  },
  {
   "cell_type": "code",
   "execution_count": 19,
   "id": "e4ac416e",
   "metadata": {},
   "outputs": [
    {
     "name": "stdout",
     "output_type": "stream",
     "text": [
      "salam dünya\n"
     ]
    }
   ],
   "source": [
    "greeting = \"  salam dünya  \\n\"\n",
    "print(greeting.strip())"
   ]
  },
  {
   "cell_type": "markdown",
   "id": "2f668f2e",
   "metadata": {},
   "source": [
    "10. Sətr tipli `var` adlı dəyişən verilib. Dəyişənin dəyəri olan sətrin düzgün dəyişən adı olun-olmamasını təyin edin."
   ]
  },
  {
   "cell_type": "code",
   "execution_count": 20,
   "id": "73c1e4e9",
   "metadata": {},
   "outputs": [
    {
     "name": "stdout",
     "output_type": "stream",
     "text": [
      "Düzgündür: True\n",
      "Düzgündür: False\n"
     ]
    }
   ],
   "source": [
    "var = \"correct_var\"\n",
    "print(f\"Düzgündür: {var.isidentifier()}\")\n",
    "\n",
    "# indi isə düzgün olmayan biri olsun\n",
    "\n",
    "var = \"incorrect-var\"\n",
    "print(f\"Düzgündür: {var.isidentifier()}\")"
   ]
  },
  {
   "cell_type": "markdown",
   "id": "a58fcbbc",
   "metadata": {},
   "source": [
    "##### Yazılar (tuples)"
   ]
  },
  {
   "cell_type": "markdown",
   "id": "7af6911a",
   "metadata": {},
   "source": [
    "1. 4 rəng adından - \"red\", \"blue\", \"green\", \"blue\" ibarət olan yazı yaradın."
   ]
  },
  {
   "cell_type": "code",
   "execution_count": 21,
   "id": "16d1ae62",
   "metadata": {},
   "outputs": [
    {
     "name": "stdout",
     "output_type": "stream",
     "text": [
      "('red', 'blue', 'green', 'blue')\n"
     ]
    }
   ],
   "source": [
    "colors = (\"red\", \"blue\", \"green\", \"blue\")\n",
    "print(colors)"
   ]
  },
  {
   "cell_type": "markdown",
   "id": "d6078dae",
   "metadata": {},
   "source": [
    "2. İkinci elementi `second_color` dəyişənində saxlayın."
   ]
  },
  {
   "cell_type": "code",
   "execution_count": 22,
   "id": "b5da0b68",
   "metadata": {},
   "outputs": [
    {
     "name": "stdout",
     "output_type": "stream",
     "text": [
      "blue\n"
     ]
    }
   ],
   "source": [
    "second_color = colors[1]\n",
    "print(second_color)"
   ]
  },
  {
   "cell_type": "markdown",
   "id": "719b1f26",
   "metadata": {},
   "source": [
    "3. \"blue\" (göy) rənginin neçə dəfə göründüyünü saxlamaq üçün `blue_count` dəyişəni yaradın."
   ]
  },
  {
   "cell_type": "code",
   "execution_count": 23,
   "id": "ff91dfc5",
   "metadata": {},
   "outputs": [
    {
     "name": "stdout",
     "output_type": "stream",
     "text": [
      "2\n"
     ]
    }
   ],
   "source": [
    "blue_count = colors.count(\"blue\")\n",
    "print(blue_count)"
   ]
  },
  {
   "cell_type": "markdown",
   "id": "d75d16d5",
   "metadata": {},
   "source": [
    "4. \"red\" (qırmızı) rənginin indeksini `red_index` dəyişənində saxlayın."
   ]
  },
  {
   "cell_type": "code",
   "execution_count": 24,
   "id": "1b715e89",
   "metadata": {},
   "outputs": [
    {
     "name": "stdout",
     "output_type": "stream",
     "text": [
      "0\n"
     ]
    }
   ],
   "source": [
    "red_index = colors.index(\"red\")\n",
    "print(red_index)"
   ]
  },
  {
   "cell_type": "markdown",
   "id": "81b8ecd4",
   "metadata": {},
   "source": [
    "5. `tuple1` və `tuple2` dəyişənlərini yaradın, sonra onları `combined_tuple` dəyişənində birləşdirin."
   ]
  },
  {
   "cell_type": "code",
   "execution_count": 25,
   "id": "57629fe1",
   "metadata": {},
   "outputs": [
    {
     "name": "stdout",
     "output_type": "stream",
     "text": [
      "(1, 2, 3, 4, 5, 6)\n"
     ]
    }
   ],
   "source": [
    "tuple1 = 1, 2, 3\n",
    "tuple2 = (4, 5, 6)\n",
    "combined_tuple = tuple1 + tuple2\n",
    "print(combined_tuple)"
   ]
  },
  {
   "cell_type": "markdown",
   "id": "b3cefc37",
   "metadata": {},
   "source": [
    "6. Bir iç-içə yazı yaradın və `nested_tuple` dəyişəninə mənimsədin."
   ]
  },
  {
   "cell_type": "code",
   "execution_count": 26,
   "id": "053e0735",
   "metadata": {},
   "outputs": [
    {
     "name": "stdout",
     "output_type": "stream",
     "text": [
      "((1, 2, 3), (4, 5, 6))\n"
     ]
    }
   ],
   "source": [
    "nested_tuple = ((1, 2, 3), \n",
    "                (4, 5, 6))\n",
    "\n",
    "print(nested_tuple)"
   ]
  },
  {
   "cell_type": "markdown",
   "id": "cb35b9eb",
   "metadata": {},
   "source": [
    "7. Ədədlərdən ibarət bir yazı yaradın və onu dilimləmə vasitəsilə əksinə düzün."
   ]
  },
  {
   "cell_type": "code",
   "execution_count": 27,
   "id": "96eea4a0",
   "metadata": {},
   "outputs": [
    {
     "name": "stdout",
     "output_type": "stream",
     "text": [
      "(5, 4, 3, 2, 1)\n"
     ]
    }
   ],
   "source": [
    "nums = 1, 2, 3, 4, 5\n",
    "print(nums[: : -1])"
   ]
  },
  {
   "cell_type": "markdown",
   "id": "d2caca2c",
   "metadata": {},
   "source": [
    "8. `list_data` adlı bir siyahı dəyişəni yaradın və onu `tuple_from_list` dəyişənində yazıya çevirin."
   ]
  },
  {
   "cell_type": "code",
   "execution_count": 28,
   "id": "34047a41",
   "metadata": {},
   "outputs": [
    {
     "name": "stdout",
     "output_type": "stream",
     "text": [
      "(1, 2, 3, 4, 5)\n"
     ]
    }
   ],
   "source": [
    "list_data = [1, 2, 3, 4, 5]\n",
    "tuple_from_list = tuple(list_data)\n",
    "print(tuple_from_list)"
   ]
  },
  {
   "cell_type": "markdown",
   "id": "2b4a5e5a",
   "metadata": {},
   "source": [
    "9. Tək elementli bir yazını `single_item_tuple` dəyişənində saxlayın."
   ]
  },
  {
   "cell_type": "code",
   "execution_count": 29,
   "id": "039effb3",
   "metadata": {},
   "outputs": [
    {
     "name": "stdout",
     "output_type": "stream",
     "text": [
      "<class 'tuple'>\n",
      "(1,)\n"
     ]
    }
   ],
   "source": [
    "single_item_tuple = (1,)\n",
    "print(type(single_item_tuple))\n",
    "print(single_item_tuple)"
   ]
  },
  {
   "cell_type": "markdown",
   "id": "6d297ab1",
   "metadata": {},
   "source": [
    "10. `nums=(1,2,3,4,5,6)` yazısı verilib. Elə edin ki `nums` dəyişənində ancaq cüt ədədlər qalsın."
   ]
  },
  {
   "cell_type": "code",
   "execution_count": 30,
   "id": "fc4c32bf",
   "metadata": {},
   "outputs": [
    {
     "name": "stdout",
     "output_type": "stream",
     "text": [
      "(2, 4, 6)\n"
     ]
    }
   ],
   "source": [
    "nums=(1,2,3,4,5,6)\n",
    "nums = nums[1: : 2]\n",
    "print(nums)"
   ]
  },
  {
   "cell_type": "markdown",
   "id": "879fa6ee",
   "metadata": {},
   "source": [
    "##### Siyahılar"
   ]
  },
  {
   "cell_type": "markdown",
   "id": "20236133",
   "metadata": {},
   "source": [
    "1. Özümdə [1-20] aralığındakı ədədləri saxlayacaq `nums` siyahısını yaradın."
   ]
  },
  {
   "cell_type": "code",
   "execution_count": 31,
   "id": "fa13a7f4",
   "metadata": {},
   "outputs": [],
   "source": [
    "nums = [1,2,3,4,5,6,7,8,9,10,11,12,13,14,15,16,17,18,19,20]"
   ]
  },
  {
   "cell_type": "markdown",
   "id": "da337cc4",
   "metadata": {},
   "source": [
    "2. `nums` siyahısının ancaq cüt elementlərindən ibarət olacaq `nums_even` siyahısını yaradın."
   ]
  },
  {
   "cell_type": "code",
   "execution_count": 32,
   "id": "20ad7e3b",
   "metadata": {},
   "outputs": [
    {
     "name": "stdout",
     "output_type": "stream",
     "text": [
      "[2, 4, 6, 8, 10, 12, 14, 16, 18, 20]\n"
     ]
    }
   ],
   "source": [
    "nums_even = nums[1: : 2]\n",
    "print(nums_even)"
   ]
  },
  {
   "cell_type": "markdown",
   "id": "50e36e44",
   "metadata": {},
   "source": [
    "3. `nums_even` siyahısının son elementini silərək `last_even` dəyişəninə mənimsədin."
   ]
  },
  {
   "cell_type": "code",
   "execution_count": 33,
   "id": "75dbbed1",
   "metadata": {},
   "outputs": [
    {
     "name": "stdout",
     "output_type": "stream",
     "text": [
      "last_even:  20\n",
      "nums_even:  [2, 4, 6, 8, 10, 12, 14, 16, 18]\n"
     ]
    }
   ],
   "source": [
    "last_even = nums_even.pop()\n",
    "print(\"last_even: \", last_even)\n",
    "print(\"nums_even: \", nums_even)"
   ]
  },
  {
   "cell_type": "markdown",
   "id": "def28f7f",
   "metadata": {},
   "source": [
    "4. `nums` siyahısının 2-ci mövqeyinə (indeks 2) `last_even` ədədini daxil edin."
   ]
  },
  {
   "cell_type": "code",
   "execution_count": 34,
   "id": "1726e2ce",
   "metadata": {},
   "outputs": [
    {
     "name": "stdout",
     "output_type": "stream",
     "text": [
      "[1, 2, 20, 3, 4, 5, 6, 7, 8, 9, 10, 11, 12, 13, 14, 15, 16, 17, 18, 19, 20]\n"
     ]
    }
   ],
   "source": [
    "nums.insert(2, last_even)\n",
    "print(nums)"
   ]
  },
  {
   "cell_type": "markdown",
   "id": "83fbafb6",
   "metadata": {},
   "source": [
    "5. `nums` siyahısını artan sıra(kiçikdən-böyüyə doğru) ilə çeşidləyin."
   ]
  },
  {
   "cell_type": "code",
   "execution_count": 35,
   "id": "567511c7",
   "metadata": {},
   "outputs": [
    {
     "name": "stdout",
     "output_type": "stream",
     "text": [
      "[1, 2, 3, 4, 5, 6, 7, 8, 9, 10, 11, 12, 13, 14, 15, 16, 17, 18, 19, 20, 20]\n"
     ]
    }
   ],
   "source": [
    "print(sorted(nums))"
   ]
  },
  {
   "cell_type": "markdown",
   "id": "13de9f90",
   "metadata": {},
   "source": [
    "##### Məntiqi (boolean)"
   ]
  },
  {
   "cell_type": "markdown",
   "id": "f1601b0b",
   "metadata": {},
   "source": [
    "1. iki ədəd dəyişən yaradın, birinin dəyəri `True`, digəri isə `False` olsun. `type` funksiyasından istifadə etməklə, onların tipini yoxlayın."
   ]
  },
  {
   "cell_type": "code",
   "execution_count": 36,
   "id": "dbbf221d",
   "metadata": {},
   "outputs": [
    {
     "name": "stdout",
     "output_type": "stream",
     "text": [
      "<class 'bool'>\n",
      "<class 'bool'>\n"
     ]
    }
   ],
   "source": [
    "t = True\n",
    "f = False\n",
    "\n",
    "print(type(t))\n",
    "print(type(f))"
   ]
  },
  {
   "cell_type": "markdown",
   "id": "a5772eb9",
   "metadata": {},
   "source": [
    "2. Deyək ki müəyyən bir kitab var. Kitabın  xüsusiyyətləri üçün bu dəyişənləri var: janrı - `genre`, müəllifi - `author` və  üz qabığının materialı - `cover_material`. \n",
    "\n",
    "Janrı - \"philosophy\", müəllifi \"Freud\" və ya \"Jung\", üz qabığının materialı isə \"hard\" olan kitab üçün `True` almaq üçün bir məntiqi ifadə yazın."
   ]
  },
  {
   "cell_type": "code",
   "execution_count": 37,
   "id": "3126a233",
   "metadata": {},
   "outputs": [
    {
     "data": {
      "text/plain": [
       "True"
      ]
     },
     "execution_count": 37,
     "metadata": {},
     "output_type": "execute_result"
    }
   ],
   "source": [
    "book_genre = \"philosophy\"       # janr\n",
    "book_author = \"Jung\"            # müəllif\n",
    "book_cover_material = \"hard\"    # üz qabığının materialı\n",
    "\n",
    "book_genre == \"philosophy\" and \\\n",
    "    (book_author == \"Freud\" or book_author == \"Jung\") and \\\n",
    "    book_cover_material == \"hard\"\n",
    "\n"
   ]
  },
  {
   "cell_type": "markdown",
   "id": "3e587a35",
   "metadata": {},
   "source": [
    "##### Çoxluqlar"
   ]
  },
  {
   "cell_type": "markdown",
   "id": "56b8df43",
   "metadata": {},
   "source": [
    "1. `{'apple', 'pear'}` və `{'tomato', 'potato'}` çoxluqları verilib. Onların birləşməsini tapıb `eatable` dəyişəninə mənimsədin."
   ]
  },
  {
   "cell_type": "code",
   "execution_count": 39,
   "id": "3d6800e9",
   "metadata": {},
   "outputs": [
    {
     "name": "stdout",
     "output_type": "stream",
     "text": [
      "{'pear', 'tomato', 'potato', 'apple'}\n"
     ]
    }
   ],
   "source": [
    "eatable = {'apple', 'pear'}.union({'tomato', 'potato'})\n",
    "print(eatable)"
   ]
  },
  {
   "cell_type": "markdown",
   "id": "cd85f6ba",
   "metadata": {},
   "source": [
    "2. Deyək ki `A = {1, 2, 3, 4, 5}` , `B = {4, 5, 6, 7, 8}` və  `C = {3, 5, 7, 9}` çoxluqları verilib. Aşağıda verilənləri tapın:\n",
    "    - Hər üç çoxluqda peydə olan elementləri\n",
    "    - Ancaq `A` çoxluğunda olan elementləri\n",
    "    - `B` və `A` çox"
   ]
  },
  {
   "cell_type": "code",
   "execution_count": 43,
   "id": "ff291b15",
   "metadata": {},
   "outputs": [
    {
     "name": "stdout",
     "output_type": "stream",
     "text": [
      " Hər üçündə olanlar:  {5}\n",
      "Ancaq A-da olanlar:  {1, 2}\n"
     ]
    }
   ],
   "source": [
    "A = {1, 2, 3, 4, 5}\n",
    "B = {4, 5, 6, 7, 8}\n",
    "C = {3, 5, 7, 9}\n",
    "\n",
    "# Hər üç çoxluqda olan elementlər - hər üçünün kəsişməsi deməkdir.Qısaca & operatorunu istifadə etmək olar.\n",
    "print(\" Hər üçündə olanlar: \", A & B & C)\n",
    "\n",
    "# Ancaq A-da olanlar - B ilə C çoxluqlarını birləşdirib, A-dan çıxa bilərik.Birləşdirmə operatoru - `|`\n",
    "print(\"Ancaq A-da olanlar: \", A - (B | C))\n",
    "\n"
   ]
  },
  {
   "cell_type": "markdown",
   "id": "6ccd3e84",
   "metadata": {},
   "source": [
    "##### Lüğətlər"
   ]
  },
  {
   "cell_type": "markdown",
   "id": "437b03f2",
   "metadata": {},
   "source": [
    "1. Universitet qrupunda olan tələbələr: Ülvi İsmayılov, Hikmət Nəsibov və Rəşad Vəliyev. Yaşları isə uyğun olaraq - 33, 25 və 35 olacaq. Tələbələri lüğətlər siyahısı kimi göstərməyə çalışın: hər bir lüğət - bir tələbə olacaq."
   ]
  },
  {
   "cell_type": "code",
   "execution_count": 45,
   "id": "ed0dbb2f",
   "metadata": {},
   "outputs": [
    {
     "name": "stdout",
     "output_type": "stream",
     "text": [
      "[{'name': 'Ülvi', 'surname': 'İsmayılov', 'age': 33}, {'name': 'Rəşad', 'surname': 'Vəliyev', 'age': 35}, {'name': 'Hikmət', 'surname': 'Nəsibov', 'age': 25}]\n"
     ]
    }
   ],
   "source": [
    "# Qoy adlar üçün \"name\", soyadlar üçün \"surname\", yaşlar üçün isə \"age\" açarı olsun.\n",
    "\n",
    "students = [\n",
    "    {\"name\": \"Ülvi\", \"surname\": \"İsmayılov\", \"age\": 33},\n",
    "    {\"name\": \"Rəşad\", \"surname\": \"Vəliyev\", \"age\": 35},\n",
    "    {\"name\": \"Hikmət\", \"surname\": \"Nəsibov\", \"age\": 25},\n",
    "]\n",
    "print(students)"
   ]
  },
  {
   "cell_type": "markdown",
   "id": "b0b047e1",
   "metadata": {},
   "source": [
    "2. Siyahını elə dəyişin ki Rəşadın yaşı 5 vahid azalsın, yəni 30 olsun."
   ]
  },
  {
   "cell_type": "code",
   "execution_count": 48,
   "id": "7e1dfcb4",
   "metadata": {},
   "outputs": [
    {
     "name": "stdout",
     "output_type": "stream",
     "text": [
      "student:  {'name': 'Rəşad', 'surname': 'Vəliyev', 'age': 35}\n",
      "student:  {'name': 'Rəşad', 'surname': 'Vəliyev', 'age': 30}\n"
     ]
    }
   ],
   "source": [
    "# birbaşa olaraq indeksinə görə Rəşad olan lüğəti alıb, onun \"age\" açarına görə dəyərini dəyişə bilərik\n",
    "print(\"student: \", students[1]) \n",
    "\n",
    "# indi isə dəyişək:\n",
    "\n",
    "students[1]['age'] = students[1]['age'] - 5\n",
    "\n",
    "# bir də çap edib baxaq:\n",
    "\n",
    "print(\"student: \", students[1]) "
   ]
  },
  {
   "cell_type": "markdown",
   "id": "de6fc5ff",
   "metadata": {},
   "source": [
    "3. Siyahıya yeni tələbə - Əziz Nadirov 27 yaş əlavə edin. "
   ]
  },
  {
   "cell_type": "code",
   "execution_count": 49,
   "id": "4fcf692a",
   "metadata": {},
   "outputs": [
    {
     "name": "stdout",
     "output_type": "stream",
     "text": [
      "[{'name': 'Ülvi', 'surname': 'İsmayılov', 'age': 33}, {'name': 'Rəşad', 'surname': 'Vəliyev', 'age': 30}, {'name': 'Hikmət', 'surname': 'Nəsibov', 'age': 25}, {'name': 'Əziz', 'surname': 'Nadirov', 'age': 27}]\n"
     ]
    }
   ],
   "source": [
    "students.append(\n",
    "    {\"name\": \"Əziz\", \"surname\": \"Nadirov\", \"age\": 27}\n",
    ")\n",
    "\n",
    "print(students)"
   ]
  }
 ],
 "metadata": {
  "kernelspec": {
   "display_name": ".venv",
   "language": "python",
   "name": "python3"
  },
  "language_info": {
   "codemirror_mode": {
    "name": "ipython",
    "version": 3
   },
   "file_extension": ".py",
   "mimetype": "text/x-python",
   "name": "python",
   "nbconvert_exporter": "python",
   "pygments_lexer": "ipython3",
   "version": "3.12.3"
  }
 },
 "nbformat": 4,
 "nbformat_minor": 5
}
